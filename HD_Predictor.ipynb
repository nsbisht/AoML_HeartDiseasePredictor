{
 "cells": [
  {
   "cell_type": "markdown",
   "id": "447fdbf8",
   "metadata": {},
   "source": [
    "# Application 1: Heart Disease Detection"
   ]
  },
  {
   "cell_type": "code",
   "execution_count": 1,
   "id": "244c5061",
   "metadata": {},
   "outputs": [],
   "source": [
    "import pandas as pd\n",
    "import numpy as np\n",
    "import seaborn as sns\n",
    "import matplotlib.pyplot as plt\n",
    "\n",
    "from sklearn import datasets, preprocessing, metrics \n",
    "from sklearn.model_selection import train_test_split\n",
    "\n",
    "from sklearn.linear_model import LogisticRegression\n",
    "from sklearn.discriminant_analysis import LinearDiscriminantAnalysis\n",
    "from sklearn.svm import SVC\n",
    "from sklearn.neighbors import KNeighborsClassifier\n",
    "from sklearn.naive_bayes import GaussianNB\n",
    "from sklearn.tree import DecisionTreeClassifier, plot_tree, export_text, export_graphviz\n",
    "from sklearn.ensemble import RandomForestClassifier\n",
    "from sklearn.metrics import *\n",
    "\n",
    "import warnings\n",
    "warnings.filterwarnings('ignore')"
   ]
  },
  {
   "cell_type": "code",
   "execution_count": 2,
   "id": "f0337833-bb30-407d-862d-8cd9289b84c7",
   "metadata": {},
   "outputs": [],
   "source": [
    "from __future__ import print_function\n",
    "from ipywidgets import interact, interactive, fixed, interact_manual\n",
    "import ipywidgets as widgets\n",
    "from IPython.display import clear_output"
   ]
  },
  {
   "cell_type": "code",
   "execution_count": 3,
   "id": "e8deb87e",
   "metadata": {},
   "outputs": [],
   "source": [
    "columns = ['age','sex','cp','trestbps','chol','fbs','restecg','thalach','exang','oldpeak','slope','ca','thal','num']\n",
    "data = pd.read_csv('processed.cleveland.csv', header=None, names=columns)"
   ]
  },
  {
   "cell_type": "code",
   "execution_count": 4,
   "id": "ebd82981",
   "metadata": {},
   "outputs": [],
   "source": [
    "# preprocessing\n",
    "\n",
    "# Update NaN values with mean of the respective column values\n",
    "data['ca'] = data.ca.fillna(data.ca.mean())\n",
    "data['thal'] = data.thal.fillna(data.thal.mean())\n",
    "\n",
    "# If the goal field is < 2, we treat that the sample belongs to a healthy person.\n",
    "data['num'] = data.num.map({0: 0, 1: 0, 2: 1, 3: 1, 4: 1})\n",
    "# 0 -  Healthy\n",
    "# 1 -  Unhealthy"
   ]
  },
  {
   "cell_type": "code",
   "execution_count": 5,
   "id": "9087fb43",
   "metadata": {},
   "outputs": [],
   "source": [
    "min_max_scaler = preprocessing.MinMaxScaler()\n",
    "\n",
    "X = data.iloc[:, :-1].values\n",
    "Y = data.iloc[:, -1].values\n",
    "\n",
    "# Normalize features\n",
    "X = min_max_scaler.fit_transform(X)\n",
    "\n",
    "X_train, X_test, Y_train, Y_test = train_test_split(X, Y, test_size = 0.3, random_state = 0)"
   ]
  },
  {
   "cell_type": "code",
   "execution_count": 6,
   "id": "10c30a9c",
   "metadata": {},
   "outputs": [],
   "source": [
    "lr_classifier = LogisticRegression(penalty='l2', #Ridge\n",
    "                                   tol=0.0001,\n",
    "                                   fit_intercept=True, \n",
    "                                   random_state=None, \n",
    "                                   max_iter=100)"
   ]
  },
  {
   "cell_type": "code",
   "execution_count": 7,
   "id": "87d867e3",
   "metadata": {},
   "outputs": [],
   "source": [
    "_ = lr_classifier.fit(X_train, Y_train)"
   ]
  },
  {
   "cell_type": "code",
   "execution_count": 8,
   "id": "8b7505be",
   "metadata": {},
   "outputs": [],
   "source": [
    "y_pred = lr_classifier.predict(X_test)"
   ]
  },
  {
   "cell_type": "code",
   "execution_count": 9,
   "id": "60b4e12e",
   "metadata": {},
   "outputs": [],
   "source": [
    "gnb_classifier = GaussianNB()"
   ]
  },
  {
   "cell_type": "code",
   "execution_count": 10,
   "id": "a8e406ea",
   "metadata": {},
   "outputs": [],
   "source": [
    "gnb_classifier.fit(X_train, Y_train)\n",
    "y_pred = gnb_classifier.predict(X_test)"
   ]
  },
  {
   "cell_type": "code",
   "execution_count": 11,
   "id": "856611bd",
   "metadata": {},
   "outputs": [],
   "source": [
    "svc_classifier = SVC(C=1.0, \n",
    "                     kernel='rbf', \n",
    "                     degree=3, gamma='scale', \n",
    "                     coef0=0.0, \n",
    "                     shrinking=True, \n",
    "                     probability=False, \n",
    "                     tol=0.001, \n",
    "                     cache_size=200, \n",
    "                     class_weight=None, \n",
    "                     verbose=False,\n",
    "                     max_iter=- 1, \n",
    "                     decision_function_shape='ovr', \n",
    "                     break_ties=False, \n",
    "                     random_state=None)"
   ]
  },
  {
   "cell_type": "code",
   "execution_count": 12,
   "id": "cdd3f960",
   "metadata": {},
   "outputs": [],
   "source": [
    "svc_classifier.fit(X_train, Y_train)\n",
    "y_pred = svc_classifier.predict(X_test)"
   ]
  },
  {
   "cell_type": "code",
   "execution_count": 13,
   "id": "6f8861cd",
   "metadata": {},
   "outputs": [],
   "source": [
    "kn_classifier = KNeighborsClassifier(n_neighbors=5, \n",
    "                                     weights='uniform', \n",
    "                                     algorithm='auto', #used to identify nearest neighbours\n",
    "                                     p=2, #euclidean_distance\n",
    "                                     metric='minkowski')"
   ]
  },
  {
   "cell_type": "code",
   "execution_count": 14,
   "id": "88b868f2",
   "metadata": {},
   "outputs": [
    {
     "data": {
      "text/plain": [
       "KNeighborsClassifier()"
      ]
     },
     "execution_count": 14,
     "metadata": {},
     "output_type": "execute_result"
    }
   ],
   "source": [
    "_ = kn_classifier.fit(X_train, Y_train)"
   ]
  },
  {
   "cell_type": "code",
   "execution_count": 15,
   "id": "bce41a50",
   "metadata": {},
   "outputs": [],
   "source": [
    "y_pred = kn_classifier.predict(X_test)"
   ]
  },
  {
   "cell_type": "code",
   "execution_count": 16,
   "id": "d73fdcac",
   "metadata": {},
   "outputs": [],
   "source": [
    "lda_classifier = LinearDiscriminantAnalysis(solver='svd', \n",
    "                                            shrinkage=None, \n",
    "                                            priors=None, \n",
    "                                            n_components=None, \n",
    "                                            store_covariance=False, \n",
    "                                            tol=0.0001, \n",
    "                                            covariance_estimator=None\n",
    "                                           )\n",
    "# How many dimensions / features were used for the classification?\n",
    "# If a subset was used, how was it decided?\n",
    "# Can we see the mean and scatter of each feature used?"
   ]
  },
  {
   "cell_type": "code",
   "execution_count": 17,
   "id": "55965603",
   "metadata": {},
   "outputs": [],
   "source": [
    "dt_classifier = DecisionTreeClassifier(criterion='gini', \n",
    "                                       splitter='best', \n",
    "                                       max_depth=None, \n",
    "                                       min_samples_split=2, \n",
    "                                       min_samples_leaf=1, \n",
    "                                       min_weight_fraction_leaf=0.0, \n",
    "                                       max_features=None, \n",
    "                                       random_state=None, \n",
    "                                       max_leaf_nodes=None, \n",
    "                                       min_impurity_decrease=0.0, \n",
    "                                       class_weight=None, \n",
    "                                       ccp_alpha=0.0\n",
    "                                      )"
   ]
  },
  {
   "cell_type": "code",
   "execution_count": 18,
   "id": "c6409ae3",
   "metadata": {},
   "outputs": [],
   "source": [
    "_ = dt_classifier.fit(X_train, Y_train)\n",
    "\n",
    "# Root\n",
    "# Visualize the tree\n",
    "# Depth of the tree?\n",
    "# Gini Index of nodes?"
   ]
  },
  {
   "cell_type": "code",
   "execution_count": 19,
   "id": "0eb0b3a4",
   "metadata": {},
   "outputs": [],
   "source": [
    "rf_classifier = RandomForestClassifier(n_estimators=100, \n",
    "                                       criterion='gini', \n",
    "                                       max_depth=None, \n",
    "                                       min_samples_split=2, \n",
    "                                       min_samples_leaf=1, \n",
    "                                       min_weight_fraction_leaf=0.0, \n",
    "                                       max_features='auto', \n",
    "                                       max_leaf_nodes=None, \n",
    "                                       min_impurity_decrease=0.0, \n",
    "                                       min_impurity_split=None, \n",
    "                                       bootstrap=True, \n",
    "                                       oob_score=False, \n",
    "                                       n_jobs=None, \n",
    "                                       random_state=None, \n",
    "                                       verbose=0, \n",
    "                                       warm_start=False, \n",
    "                                       class_weight=None, \n",
    "                                       ccp_alpha=0.0, \n",
    "                                       max_samples=None)"
   ]
  },
  {
   "cell_type": "code",
   "execution_count": 20,
   "id": "8c285e89",
   "metadata": {},
   "outputs": [
    {
     "data": {
      "text/plain": [
       "RandomForestClassifier()"
      ]
     },
     "execution_count": 20,
     "metadata": {},
     "output_type": "execute_result"
    }
   ],
   "source": [
    "_ = rf_classifier.fit(X_train, Y_train)"
   ]
  },
  {
   "cell_type": "code",
   "execution_count": 22,
   "id": "1d46d0d7-a2c3-4256-ace3-986ca9fbad17",
   "metadata": {},
   "outputs": [
    {
     "name": "stdout",
     "output_type": "stream",
     "text": [
      "Please enter the details of the person:\n"
     ]
    }
   ],
   "source": [
    "print(\"Please enter the details of the person:\")\n",
    "age = widgets.Text(description=\"age\")\n",
    "sex = widgets.Text(description=\"sex\")\n",
    "cp = widgets.Text(description=\"cp\")\n",
    "trestbps = widgets.Text(description=\"trestbps\")\n",
    "chol = widgets.Text(description=\"chol\")\n",
    "fbs = widgets.Text(description=\"fbs\")\n",
    "restecg = widgets.Text(description=\"restecg\")\n",
    "thalach = widgets.Text(description=\"thalach\")\n",
    "exang = widgets.Text(description=\"exang\")\n",
    "oldpeak = widgets.Text(description=\"oldpeak\")\n",
    "slope = widgets.Text(description=\"slope\")\n",
    "ca = widgets.Text(description=\"ca\")\n",
    "thal = widgets.Text(description=\"thal\")"
   ]
  },
  {
   "cell_type": "code",
   "execution_count": 23,
   "id": "1ffca496-dfa1-462b-8bc9-5f696162e492",
   "metadata": {},
   "outputs": [
    {
     "data": {
      "application/vnd.jupyter.widget-view+json": {
       "model_id": "ced8607058594f97933f819648676486",
       "version_major": 2,
       "version_minor": 0
      },
      "text/plain": [
       "Text(value='', description='age')"
      ]
     },
     "metadata": {},
     "output_type": "display_data"
    },
    {
     "data": {
      "application/vnd.jupyter.widget-view+json": {
       "model_id": "cd730d4f8e68476baeadfe0e22c8fac0",
       "version_major": 2,
       "version_minor": 0
      },
      "text/plain": [
       "Text(value='', description='sex')"
      ]
     },
     "metadata": {},
     "output_type": "display_data"
    },
    {
     "data": {
      "application/vnd.jupyter.widget-view+json": {
       "model_id": "d1cd679c6dc84371bb46788b2387e2b2",
       "version_major": 2,
       "version_minor": 0
      },
      "text/plain": [
       "Text(value='', description='cp')"
      ]
     },
     "metadata": {},
     "output_type": "display_data"
    },
    {
     "data": {
      "application/vnd.jupyter.widget-view+json": {
       "model_id": "9bbcc9e1b2ff43b1afb0b38b8accf0d3",
       "version_major": 2,
       "version_minor": 0
      },
      "text/plain": [
       "Text(value='', description='trestbps')"
      ]
     },
     "metadata": {},
     "output_type": "display_data"
    },
    {
     "data": {
      "application/vnd.jupyter.widget-view+json": {
       "model_id": "2b9d4cb8d84c47d394a32560f9ec4fb0",
       "version_major": 2,
       "version_minor": 0
      },
      "text/plain": [
       "Text(value='', description='chol')"
      ]
     },
     "metadata": {},
     "output_type": "display_data"
    },
    {
     "data": {
      "application/vnd.jupyter.widget-view+json": {
       "model_id": "273cad3b35d44d34b1cbf404ccf5a485",
       "version_major": 2,
       "version_minor": 0
      },
      "text/plain": [
       "Text(value='', description='fbs')"
      ]
     },
     "metadata": {},
     "output_type": "display_data"
    },
    {
     "data": {
      "application/vnd.jupyter.widget-view+json": {
       "model_id": "19fe54f43e8c4c68b5e9dde0cbffa515",
       "version_major": 2,
       "version_minor": 0
      },
      "text/plain": [
       "Text(value='', description='restecg')"
      ]
     },
     "metadata": {},
     "output_type": "display_data"
    },
    {
     "data": {
      "application/vnd.jupyter.widget-view+json": {
       "model_id": "d59f6ac47fd3442c9fae86e3c431fd8f",
       "version_major": 2,
       "version_minor": 0
      },
      "text/plain": [
       "Text(value='', description='thalach')"
      ]
     },
     "metadata": {},
     "output_type": "display_data"
    },
    {
     "data": {
      "application/vnd.jupyter.widget-view+json": {
       "model_id": "8e7b11aeb6324e658ff589edda5a4e28",
       "version_major": 2,
       "version_minor": 0
      },
      "text/plain": [
       "Text(value='', description='exang')"
      ]
     },
     "metadata": {},
     "output_type": "display_data"
    },
    {
     "data": {
      "application/vnd.jupyter.widget-view+json": {
       "model_id": "f8855fab308546988db7ae3820381790",
       "version_major": 2,
       "version_minor": 0
      },
      "text/plain": [
       "Text(value='', description='oldpeak')"
      ]
     },
     "metadata": {},
     "output_type": "display_data"
    },
    {
     "data": {
      "application/vnd.jupyter.widget-view+json": {
       "model_id": "3302b42b44744d9295a52fe793fca4fb",
       "version_major": 2,
       "version_minor": 0
      },
      "text/plain": [
       "Text(value='', description='slope')"
      ]
     },
     "metadata": {},
     "output_type": "display_data"
    },
    {
     "data": {
      "application/vnd.jupyter.widget-view+json": {
       "model_id": "5d06acf5e0fe4a53b0684f8193bca503",
       "version_major": 2,
       "version_minor": 0
      },
      "text/plain": [
       "Text(value='', description='ca')"
      ]
     },
     "metadata": {},
     "output_type": "display_data"
    },
    {
     "data": {
      "application/vnd.jupyter.widget-view+json": {
       "model_id": "41fcaff8daa645a297975455395d5d9a",
       "version_major": 2,
       "version_minor": 0
      },
      "text/plain": [
       "Text(value='', description='thal')"
      ]
     },
     "metadata": {},
     "output_type": "display_data"
    }
   ],
   "source": [
    "display(age)\n",
    "display(sex)\n",
    "display(cp)\n",
    "display(trestbps)\n",
    "display(chol)\n",
    "display(fbs)\n",
    "display(restecg)\n",
    "display(thalach)\n",
    "display(exang)\n",
    "display(oldpeak)\n",
    "display(slope)\n",
    "display(ca)\n",
    "display(thal)"
   ]
  },
  {
   "cell_type": "code",
   "execution_count": 24,
   "id": "5e2755b1-7923-475e-91e9-2e6fdfc2d3ca",
   "metadata": {},
   "outputs": [
    {
     "name": "stdout",
     "output_type": "stream",
     "text": [
      "Select Algorithm\n"
     ]
    },
    {
     "data": {
      "application/vnd.jupyter.widget-view+json": {
       "model_id": "fd0e95d537f740f8a80002b4fc6c613a",
       "version_major": 2,
       "version_minor": 0
      },
      "text/plain": [
       "Dropdown(options=(('Logistic Regression', 'LR'), ('Linear Discriminant Analysis ', 'LDA'), ('Support Vector Ma…"
      ]
     },
     "metadata": {},
     "output_type": "display_data"
    }
   ],
   "source": [
    "algorithm = widgets.Dropdown(\n",
    "    options = [('Logistic Regression', 'LR'), \n",
    "               ('Linear Discriminant Analysis ', 'LDA'), \n",
    "               ('Support Vector Machines', 'SVM'),\n",
    "               ('K-Nearest Neighbors', 'KN'),\n",
    "               ('Naive Bayes', 'NB'),\n",
    "               ('Decision Trees', 'DT'),\n",
    "               ('Random Forest', 'RF'),\n",
    "              ],\n",
    "    disabled = False,\n",
    ")\n",
    "\n",
    "print('Select Algorithm')\n",
    "display(algorithm)"
   ]
  },
  {
   "cell_type": "code",
   "execution_count": 25,
   "id": "87ca468b-1e49-4edf-a9d1-a6606cdb6d5d",
   "metadata": {},
   "outputs": [],
   "source": [
    "prediction = widgets.Output()\n",
    "\n",
    "button_predict = widgets.Button(description=\"Predict\")\n",
    "\n",
    "def on_button_predict_clicked(b):\n",
    "    \n",
    "    input_data = {}\n",
    "    input_data['age'] = float(age.value)\n",
    "    input_data['sex'] = float(sex.value)\n",
    "    input_data['cp'] = float(cp.value)\n",
    "    input_data['trestbps'] = float(trestbps.value)\n",
    "    input_data['chol'] = float(chol.value)\n",
    "    input_data['fbs'] = float(fbs.value)\n",
    "    input_data['restecg'] = float(restecg.value)\n",
    "    input_data['thalach'] = float(thalach.value)\n",
    "    input_data['exang'] = float(exang.value)\n",
    "    input_data['oldpeak'] = float(oldpeak.value)\n",
    "    input_data['slope'] = float(slope.value)\n",
    "    input_data['ca'] = float(ca.value)\n",
    "    input_data['thal'] = float(thal.value)\n",
    "    \n",
    "    user_input = pd.DataFrame(input_data, columns = ['age','sex','cp','trestbps','chol','fbs','restecg','thalach','exang','oldpeak','slope','ca','thal'], index=[0])\n",
    "    \n",
    "    selected_algorithm = algorithm.value\n",
    "    \n",
    "    if selected_algorithm == 'LR':\n",
    "        classifier = lr_classifier\n",
    "    elif selected_algorithm == 'LDA':\n",
    "        classifier = lda_classifier\n",
    "    elif selected_algorithm == 'SVM':\n",
    "        classifier = svc_classifier        \n",
    "    elif selected_algorithm == 'KN':\n",
    "        classifier = kn_classifier\n",
    "    elif selected_algorithm == 'NB':\n",
    "        classifier = gnb_classifier\n",
    "    elif selected_algorithm == 'DT':\n",
    "        classifier = dt_classifier\n",
    "    elif selected_algorithm == 'RF':\n",
    "        classifier = rf_classifier\n",
    "        \n",
    "    with prediction:\n",
    "        clear_output(True)\n",
    "        print(f'Selected Algorithm = {selected_algorithm}')\n",
    "        print(classifier.predict(user_input)[0])\n",
    "        \n",
    "button_predict.on_click(on_button_predict_clicked)"
   ]
  },
  {
   "cell_type": "code",
   "execution_count": 26,
   "id": "c2891a54-db18-4b41-a1ec-f06df038a7d2",
   "metadata": {},
   "outputs": [
    {
     "data": {
      "application/vnd.jupyter.widget-view+json": {
       "model_id": "a7fcfbb34e8440f58f25ee4918e9599e",
       "version_major": 2,
       "version_minor": 0
      },
      "text/plain": [
       "Button(description='Predict', style=ButtonStyle())"
      ]
     },
     "metadata": {},
     "output_type": "display_data"
    },
    {
     "data": {
      "application/vnd.jupyter.widget-view+json": {
       "model_id": "22ebdaed17214b009ecbc235329e22fa",
       "version_major": 2,
       "version_minor": 0
      },
      "text/plain": [
       "Output()"
      ]
     },
     "metadata": {},
     "output_type": "display_data"
    }
   ],
   "source": [
    "display(button_predict)\n",
    "display(prediction)"
   ]
  },
  {
   "cell_type": "code",
   "execution_count": null,
   "id": "6462d61f-ae68-4322-b700-c2656b2bec1b",
   "metadata": {},
   "outputs": [],
   "source": []
  }
 ],
 "metadata": {
  "kernelspec": {
   "display_name": "Python 3",
   "language": "python",
   "name": "python3"
  },
  "language_info": {
   "codemirror_mode": {
    "name": "ipython",
    "version": 3
   },
   "file_extension": ".py",
   "mimetype": "text/x-python",
   "name": "python",
   "nbconvert_exporter": "python",
   "pygments_lexer": "ipython3",
   "version": "3.8.5"
  }
 },
 "nbformat": 4,
 "nbformat_minor": 5
}
